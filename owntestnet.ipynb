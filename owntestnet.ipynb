{
 "cells": [
  {
   "cell_type": "code",
   "execution_count": 80,
   "metadata": {},
   "outputs": [],
   "source": [
    "# python notebook for Make Your Own Neural Network\n",
    "# (c) Tariq Rashid, 2016\n",
    "# license is GPLv2"
   ]
  },
  {
   "cell_type": "code",
   "execution_count": 81,
   "metadata": {},
   "outputs": [],
   "source": [
    "import numpy\n",
    "# scipy.special for the sigmoid function expit()\n",
    "import scipy.special"
   ]
  },
  {
   "cell_type": "code",
   "execution_count": 82,
   "metadata": {},
   "outputs": [],
   "source": [
    "# neural network class definition\n",
    "class neuralNetwork:\n",
    "    \n",
    "    \n",
    "    # initialise the neural network\n",
    "    def __init__(self, inputnodes, hiddennodes, outputnodes, learningrate):\n",
    "        # set number of nodes in each input, hidden, output layer\n",
    "        self.inodes = inputnodes\n",
    "        self.hnodes = hiddennodes\n",
    "        self.onodes = outputnodes\n",
    "        \n",
    "        # link weight matrices, wih and who\n",
    "        # weights inside the arrays are w_i_j, where link is from node i to node j in the next layer\n",
    "        # w11 w21\n",
    "        # w12 w22 etc \n",
    "        self.wih = numpy.random.normal(0.0, pow(self.inodes, -0.5), (self.hnodes, self.inodes))\n",
    "        self.who = numpy.random.normal(0.0, pow(self.hnodes, -0.5), (self.onodes, self.hnodes))\n",
    "\n",
    "        # learning rate\n",
    "        self.lr = learningrate\n",
    "        \n",
    "        # activation function is the sigmoid function\n",
    "        self.activation_function = lambda x: scipy.special.expit(x)\n",
    "        \n",
    "        pass\n",
    "\n",
    "    \n",
    "    # train the neural network\n",
    "    def train(self, inputs_list, targets_list):\n",
    "        # convert inputs list to 2d array\n",
    "        inputs = numpy.array(inputs_list, ndmin=2).T\n",
    "        targets = numpy.array(targets_list, ndmin=2).T\n",
    "        \n",
    "        # calculate signals into hidden layer\n",
    "        hidden_inputs = numpy.dot(self.wih, inputs)\n",
    "        # calculate the signals emerging from hidden layer\n",
    "        hidden_outputs = self.activation_function(hidden_inputs)\n",
    "        \n",
    "        # calculate signals into final output layer\n",
    "        final_inputs = numpy.dot(self.who, hidden_outputs)\n",
    "        # calculate the signals emerging from final output layer\n",
    "        final_outputs = self.activation_function(final_inputs)\n",
    "        \n",
    "        # output layer error is the (target - actual)\n",
    "        output_errors = targets - final_outputs\n",
    "        # hidden layer error is the output_errors, split by weights, recombined at hidden nodes\n",
    "        hidden_errors = numpy.dot(self.who.T, output_errors) \n",
    "        \n",
    "        # update the weights for the links between the hidden and output layers\n",
    "        self.who += self.lr * numpy.dot((output_errors * final_outputs * (1.0 - final_outputs)), numpy.transpose(hidden_outputs))\n",
    "        \n",
    "        # update the weights for the links between the input and hidden layers\n",
    "        self.wih += self.lr * numpy.dot((hidden_errors * hidden_outputs * (1.0 - hidden_outputs)), numpy.transpose(inputs))\n",
    "        \n",
    "        pass\n",
    "\n",
    "    \n",
    "    # query the neural network\n",
    "    def query(self, inputs_list):\n",
    "        # convert inputs list to 2d array\n",
    "        inputs = numpy.array(inputs_list, ndmin=2).T\n",
    "        \n",
    "        # calculate signals into hidden layer\n",
    "        hidden_inputs = numpy.dot(self.wih, inputs)\n",
    "        # calculate the signals emerging from hidden layer\n",
    "        hidden_outputs = self.activation_function(hidden_inputs)\n",
    "        \n",
    "        # calculate signals into final output layer\n",
    "        final_inputs = numpy.dot(self.who, hidden_outputs)\n",
    "        # calculate the signals emerging from final output layer\n",
    "        final_outputs = self.activation_function(final_inputs)\n",
    "        \n",
    "        return final_outputs"
   ]
  },
  {
   "cell_type": "code",
   "execution_count": 83,
   "metadata": {},
   "outputs": [],
   "source": [
    "# number of input, hidden and output nodes\n",
    "input_nodes = 4\n",
    "hidden_nodes = 12\n",
    "output_nodes = 2\n",
    "\n",
    "# learning rate is 0.3\n",
    "learning_rate = 0.3\n",
    "\n",
    "# create instance of neural network\n",
    "n = neuralNetwork(input_nodes,hidden_nodes,output_nodes, learning_rate)"
   ]
  },
  {
   "cell_type": "code",
   "execution_count": 84,
   "metadata": {},
   "outputs": [],
   "source": [
    "# test query (doesn't mean anything useful yet)\n",
    "training_data_file = open(\"C:\\\\Users\\\\Felix\\\\Documents\\\\GitHub\\\\makeyourownneuralnetwork\\\\train.csv\", 'r')\n",
    "training_data_list = training_data_file.readlines()\n",
    "training_data_file.close()\n"
   ]
  },
  {
   "cell_type": "code",
   "execution_count": 85,
   "metadata": {},
   "outputs": [
    {
     "name": "stdout",
     "output_type": "stream",
     "text": [
      "['0,958333333;0;1;1;0;1\\n', '0,041666667;0;1;1;0;1\\n', '0,166666667;0;1;1;0;1\\n', '0,291666667;0,3;1;1;0;0,5\\n', '0,291666667;0,3;1;0;1;0,5\\n', '0,958333333;0;1;0;1;1\\n', '0,583333333;1;0;0;0;0\\n', '0,791666667;0;1;0;1;1\\n', '0,708333333;0,9;0;0;0;0\\n', '0,75;0,5;1;0;1;1\\n', '0,375;0,9;0;0;0;0\\n', '0,375;0,9;1;0;0;0\\n', '0,458333333;1;1;0;0;0\\n', '0,125;0;1;1;0;1\\n', '0,083333333;0;0;0;0;0\\n', '0,041666667;0;1;0;1;1\\n', '0,125;0;1;0;1;1\\n', '0,375;0,9;1;1;0;0\\n']\n"
     ]
    }
   ],
   "source": [
    "print(training_data_list)\n"
   ]
  },
  {
   "cell_type": "code",
   "execution_count": 96,
   "metadata": {},
   "outputs": [
    {
     "name": "stdout",
     "output_type": "stream",
     "text": [
      "[0.958333333, 0.0, 1.0, 1.0, 0.0, 1.0]\n",
      "[0.958333333, 0.0, 1.0, 1.0]\n",
      "[0.0, 1.0]\n",
      "[0.041666667, 0.0, 1.0, 1.0, 0.0, 1.0]\n",
      "[0.041666667, 0.0, 1.0, 1.0]\n",
      "[0.0, 1.0]\n",
      "[0.166666667, 0.0, 1.0, 1.0, 0.0, 1.0]\n",
      "[0.166666667, 0.0, 1.0, 1.0]\n",
      "[0.0, 1.0]\n",
      "[0.291666667, 0.3, 1.0, 1.0, 0.0, 0.5]\n",
      "[0.291666667, 0.3, 1.0, 1.0]\n",
      "[0.0, 0.5]\n",
      "[0.291666667, 0.3, 1.0, 0.0, 1.0, 0.5]\n",
      "[0.291666667, 0.3, 1.0, 0.0]\n",
      "[1.0, 0.5]\n",
      "[0.958333333, 0.0, 1.0, 0.0, 1.0, 1.0]\n",
      "[0.958333333, 0.0, 1.0, 0.0]\n",
      "[1.0, 1.0]\n",
      "[0.583333333, 1.0, 0.0, 0.0, 0.0, 0.0]\n",
      "[0.583333333, 1.0, 0.0, 0.0]\n",
      "[0.0, 0.0]\n",
      "[0.791666667, 0.0, 1.0, 0.0, 1.0, 1.0]\n",
      "[0.791666667, 0.0, 1.0, 0.0]\n",
      "[1.0, 1.0]\n",
      "[0.708333333, 0.9, 0.0, 0.0, 0.0, 0.0]\n",
      "[0.708333333, 0.9, 0.0, 0.0]\n",
      "[0.0, 0.0]\n",
      "[0.75, 0.5, 1.0, 0.0, 1.0, 1.0]\n",
      "[0.75, 0.5, 1.0, 0.0]\n",
      "[1.0, 1.0]\n",
      "[0.375, 0.9, 0.0, 0.0, 0.0, 0.0]\n",
      "[0.375, 0.9, 0.0, 0.0]\n",
      "[0.0, 0.0]\n",
      "[0.375, 0.9, 1.0, 0.0, 0.0, 0.0]\n",
      "[0.375, 0.9, 1.0, 0.0]\n",
      "[0.0, 0.0]\n",
      "[0.458333333, 1.0, 1.0, 0.0, 0.0, 0.0]\n",
      "[0.458333333, 1.0, 1.0, 0.0]\n",
      "[0.0, 0.0]\n",
      "[0.125, 0.0, 1.0, 1.0, 0.0, 1.0]\n",
      "[0.125, 0.0, 1.0, 1.0]\n",
      "[0.0, 1.0]\n",
      "[0.083333333, 0.0, 0.0, 0.0, 0.0, 0.0]\n",
      "[0.083333333, 0.0, 0.0, 0.0]\n",
      "[0.0, 0.0]\n",
      "[0.041666667, 0.0, 1.0, 0.0, 1.0, 1.0]\n",
      "[0.041666667, 0.0, 1.0, 0.0]\n",
      "[1.0, 1.0]\n",
      "[0.125, 0.0, 1.0, 0.0, 1.0, 1.0]\n",
      "[0.125, 0.0, 1.0, 0.0]\n",
      "[1.0, 1.0]\n",
      "[0.375, 0.9, 1.0, 1.0, 0.0, 0.0]\n",
      "[0.375, 0.9, 1.0, 1.0]\n",
      "[0.0, 0.0]\n"
     ]
    }
   ],
   "source": [
    "for x in training_data_list:\n",
    "    data = x.split(\";\")\n",
    "    data[-1] = data[-1].strip()\n",
    "    for i in range(len(data)):\n",
    "        data[i] = float(data[i].replace(\",\",\".\"))\n",
    "    print(data)\n",
    "    targets_list = data[4:6]\n",
    "    inputs_list = data[0:4]\n",
    "    print(inputs_list)\n",
    "    print(targets_list)\n",
    "    for y in range(5):\n",
    "       n.train(inputs_list, targets_list)"
   ]
  },
  {
   "cell_type": "markdown",
   "metadata": {},
   "source": [
    "s\n"
   ]
  },
  {
   "cell_type": "code",
   "execution_count": 147,
   "metadata": {},
   "outputs": [
    {
     "name": "stdout",
     "output_type": "stream",
     "text": [
      "[[0.35493434]\n",
      " [0.52885231]]\n",
      "Licht aus\n",
      "Rolladen sind zu\n"
     ]
    }
   ],
   "source": [
    "Uhrzeit = 19\n",
    "IstEsDraussenHell = 0    #Ja   = 1\n",
    "IstJemandZuhause = 1     #Nein = 0\n",
    "SchlaeftJemand = 1\n",
    "\n",
    "\n",
    "\n",
    "Uhrzeit = Uhrzeit / 24\n",
    "test_list = [Uhrzeit, IstEsDraussenHell, IstJemandZuhause, SchlaeftJemand]\n",
    "answer = n.query(test_list)\n",
    "print(answer)\n",
    "Licht = answer[0]\n",
    "Rollo = answer[1]\n",
    "if Licht > 0.38:\n",
    "    print(\"Licht an\")\n",
    "else: \n",
    "    print(\"Licht aus\")\n",
    "\n",
    "if Rollo > 0.45:\n",
    "    print(\"Rolladen sind zu\")\n",
    "else:\n",
    "    print(\"Rolladen sind offen\")"
   ]
  }
 ],
 "metadata": {
  "kernelspec": {
   "display_name": "Python 3",
   "language": "python",
   "name": "python3"
  },
  "language_info": {
   "codemirror_mode": {
    "name": "ipython",
    "version": 3
   },
   "file_extension": ".py",
   "mimetype": "text/x-python",
   "name": "python",
   "nbconvert_exporter": "python",
   "pygments_lexer": "ipython3",
   "version": "3.8.3"
  }
 },
 "nbformat": 4,
 "nbformat_minor": 1
}
